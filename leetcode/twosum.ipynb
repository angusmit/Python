{
 "cells": [
  {
   "cell_type": "markdown",
   "id": "90c5312c",
   "metadata": {},
   "source": [
    "twosum Question:\n",
    "Given an array of integers nums and an integer target, return indices of the two numbers such that they add up to target.\n",
    "You may assume that each input would have exactly one solution, and you may not use the same element twice.\n",
    "You can return the answer in any order."
   ]
  },
  {
   "cell_type": "code",
   "execution_count": 1,
   "id": "b89d56df",
   "metadata": {},
   "outputs": [
    {
     "data": {
      "text/plain": [
       "[1, 2]"
      ]
     },
     "execution_count": 1,
     "metadata": {},
     "output_type": "execute_result"
    }
   ],
   "source": [
    "# Method 1 \n",
    "# a nested loop\n",
    "# computational complexity: O(N^2) \n",
    "# space complexity: O(1) \n",
    "\n",
    "def two_sum(nums,target):\n",
    "    for i in range(len(nums)):\n",
    "        for j in range(i, len(nums)):\n",
    "            if nums[i] + nums[j] == target:\n",
    "                if i != j:\n",
    "                    return ([i,j])\n",
    "nums = [3,2,4]\n",
    "target = 6                \n",
    "two_sum(nums,target)"
   ]
  },
  {
   "cell_type": "code",
   "execution_count": 2,
   "id": "17cb5447",
   "metadata": {},
   "outputs": [
    {
     "name": "stdout",
     "output_type": "stream",
     "text": [
      "[0, 0]\n",
      "[0, 1]\n",
      "[0, 2]\n",
      "[1, 0]\n",
      "[1, 1]\n",
      "[1, 2]\n",
      "[2, 0]\n",
      "[2, 1]\n",
      "[2, 2]\n"
     ]
    }
   ],
   "source": [
    "#Below lists all the combinations of (inclusive) index lists with 2 elements in a given list  \n",
    "nums = [3,2,4]\n",
    "target = 6\n",
    "for i in range(len(nums)):\n",
    "    for j in range(len(nums)):\n",
    "            print ([i,j])             "
   ]
  },
  {
   "cell_type": "code",
   "execution_count": 3,
   "id": "731d3666",
   "metadata": {},
   "outputs": [
    {
     "name": "stdout",
     "output_type": "stream",
     "text": [
      "[0, 0]\n",
      "[0, 1]\n",
      "[0, 2]\n",
      "[1, 1]\n",
      "[1, 2]\n",
      "[2, 2]\n"
     ]
    }
   ],
   "source": [
    "#Below lists all the combinations of (exclusive) index lists with 2 elements in a given list  \n",
    "nums = [3,2,4]\n",
    "target = 6\n",
    "for i in range(len(nums)):\n",
    "    for j in range(i,len(nums)):\n",
    "            print ([i,j])  "
   ]
  },
  {
   "cell_type": "code",
   "execution_count": 4,
   "id": "b2533c40",
   "metadata": {},
   "outputs": [
    {
     "data": {
      "text/plain": [
       "[1, 2]"
      ]
     },
     "execution_count": 4,
     "metadata": {},
     "output_type": "execute_result"
    }
   ],
   "source": [
    "# Method 2\n",
    "# a hashtable\n",
    "# computational complexity: O(N) \n",
    "# space complexity: O(N) \n",
    "nums = [3,2,4]\n",
    "target = 6\n",
    "def two_sum(nums,target):\n",
    "    h = {}\n",
    "    for i in range(len(nums)):\n",
    "        diff = target - nums[i]\n",
    "        if diff in h.keys():\n",
    "            return ([h[diff],i])\n",
    "        h[nums[i]] = i  \n",
    "    return []\n",
    "two_sum(nums,target)"
   ]
  },
  {
   "cell_type": "code",
   "execution_count": 5,
   "id": "47126611",
   "metadata": {},
   "outputs": [
    {
     "data": {
      "text/plain": [
       "[1, 2]"
      ]
     },
     "execution_count": 5,
     "metadata": {},
     "output_type": "execute_result"
    }
   ],
   "source": [
    "# Method 3\n",
    "# a hashtable, using enumerate\n",
    "# computational complexity: O(N) \n",
    "# space complexity: O(N) \n",
    "nums = [3,2,4]\n",
    "target = 6\n",
    "def two_sum(nums,target):\n",
    "    h = {}\n",
    "    for i,x in enumerate(nums):\n",
    "        diff = target - x\n",
    "        if diff in h:\n",
    "            return ([h[diff],i])\n",
    "        else:\n",
    "            h[x] = i           \n",
    "two_sum(nums,target)"
   ]
  },
  {
   "cell_type": "code",
   "execution_count": 6,
   "id": "f2afa377",
   "metadata": {},
   "outputs": [
    {
     "data": {
      "text/plain": [
       "[1, 2]"
      ]
     },
     "execution_count": 6,
     "metadata": {},
     "output_type": "execute_result"
    }
   ],
   "source": [
    "# Method 4\n",
    "# for loop O(n) time and .index function O(n) time\n",
    "# computational complexity: O(N) \n",
    "# space complexity: O(N) \n",
    "def two_sum(nums,target):\n",
    "    for i in range(len(nums)):\n",
    "        j = target - nums[i]\n",
    "        if j in nums and nums.index(j) != i:\n",
    "            return [i,nums.index(j)]\n",
    "    print(i,j)\n",
    "two_sum(nums,target)   "
   ]
  },
  {
   "cell_type": "code",
   "execution_count": 7,
   "id": "b8c2ebb2",
   "metadata": {},
   "outputs": [
    {
     "data": {
      "text/plain": [
       "[1, 2]"
      ]
     },
     "execution_count": 7,
     "metadata": {},
     "output_type": "execute_result"
    }
   ],
   "source": [
    "# Method 5 \n",
    "# a while loop at least O(n) time and .index function O(n) time\n",
    "# computational complexity: O(N^2) \n",
    "# space complexity: O(N) \n",
    "def two_sum(nums,target):\n",
    "    i = len(nums)\n",
    "    while nums != []:\n",
    "        i = i - 1\n",
    "        try:\n",
    "            return [nums.index(target - nums.pop()), i]\n",
    "        except:\n",
    "            pass\n",
    "two_sum(nums,target) "
   ]
  },
  {
   "cell_type": "code",
   "execution_count": null,
   "id": "dcf8af0e",
   "metadata": {},
   "outputs": [],
   "source": []
  }
 ],
 "metadata": {
  "kernelspec": {
   "display_name": "Python 3 (ipykernel)",
   "language": "python",
   "name": "python3"
  },
  "language_info": {
   "codemirror_mode": {
    "name": "ipython",
    "version": 3
   },
   "file_extension": ".py",
   "mimetype": "text/x-python",
   "name": "python",
   "nbconvert_exporter": "python",
   "pygments_lexer": "ipython3",
   "version": "3.9.12"
  }
 },
 "nbformat": 4,
 "nbformat_minor": 5
}
